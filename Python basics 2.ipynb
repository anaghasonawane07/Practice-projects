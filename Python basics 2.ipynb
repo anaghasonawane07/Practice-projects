{
 "cells": [
  {
   "cell_type": "code",
   "execution_count": 1,
   "id": "082e9eae",
   "metadata": {},
   "outputs": [],
   "source": [
    "l1=[]"
   ]
  },
  {
   "cell_type": "code",
   "execution_count": 2,
   "id": "8c4b9ccd",
   "metadata": {},
   "outputs": [
    {
     "data": {
      "text/plain": [
       "[]"
      ]
     },
     "execution_count": 2,
     "metadata": {},
     "output_type": "execute_result"
    }
   ],
   "source": [
    "l1"
   ]
  },
  {
   "cell_type": "code",
   "execution_count": 3,
   "id": "1e786f83",
   "metadata": {},
   "outputs": [],
   "source": [
    "l1=[1,2,3,4]"
   ]
  },
  {
   "cell_type": "code",
   "execution_count": 4,
   "id": "101fd3a8",
   "metadata": {},
   "outputs": [
    {
     "data": {
      "text/plain": [
       "[1, 2, 3, 4]"
      ]
     },
     "execution_count": 4,
     "metadata": {},
     "output_type": "execute_result"
    }
   ],
   "source": [
    "l1"
   ]
  },
  {
   "cell_type": "code",
   "execution_count": 7,
   "id": "0c86b803",
   "metadata": {},
   "outputs": [],
   "source": [
    "#float list\n",
    "\n",
    "fl1 =[2.1,3.1,4.1,5.1]"
   ]
  },
  {
   "cell_type": "code",
   "execution_count": 8,
   "id": "0399f672",
   "metadata": {},
   "outputs": [
    {
     "data": {
      "text/plain": [
       "[2.1, 3.1, 4.1, 5.1]"
      ]
     },
     "execution_count": 8,
     "metadata": {},
     "output_type": "execute_result"
    }
   ],
   "source": [
    "fl1"
   ]
  },
  {
   "cell_type": "code",
   "execution_count": 9,
   "id": "b7516d61",
   "metadata": {},
   "outputs": [],
   "source": [
    "#character list\n",
    "\n",
    "chl1=['a', 'b','c']"
   ]
  },
  {
   "cell_type": "code",
   "execution_count": 10,
   "id": "41297a37",
   "metadata": {},
   "outputs": [
    {
     "data": {
      "text/plain": [
       "['a', 'b', 'c']"
      ]
     },
     "execution_count": 10,
     "metadata": {},
     "output_type": "execute_result"
    }
   ],
   "source": [
    "chl1"
   ]
  },
  {
   "cell_type": "code",
   "execution_count": 12,
   "id": "bdc63ac7",
   "metadata": {},
   "outputs": [
    {
     "data": {
      "text/plain": [
       "4"
      ]
     },
     "execution_count": 12,
     "metadata": {},
     "output_type": "execute_result"
    }
   ],
   "source": [
    "len(fl1)"
   ]
  },
  {
   "cell_type": "code",
   "execution_count": 13,
   "id": "fc7c7ae6",
   "metadata": {},
   "outputs": [],
   "source": [
    "stringlist=[\"art\",\"love\",\"lover\"]"
   ]
  },
  {
   "cell_type": "code",
   "execution_count": 15,
   "id": "bf6397ac",
   "metadata": {},
   "outputs": [
    {
     "data": {
      "text/plain": [
       "['art', 'love', 'lover']"
      ]
     },
     "execution_count": 15,
     "metadata": {},
     "output_type": "execute_result"
    }
   ],
   "source": [
    "stringlist"
   ]
  },
  {
   "cell_type": "code",
   "execution_count": 16,
   "id": "d5385357",
   "metadata": {},
   "outputs": [
    {
     "data": {
      "text/plain": [
       "3"
      ]
     },
     "execution_count": 16,
     "metadata": {},
     "output_type": "execute_result"
    }
   ],
   "source": [
    "len(stringlist)"
   ]
  },
  {
   "cell_type": "code",
   "execution_count": 19,
   "id": "2aa37b9c",
   "metadata": {},
   "outputs": [],
   "source": [
    "mixedlist =[1,2,3,4.4,5.5,'london',\"art\",6,7,8,9,10.10]"
   ]
  },
  {
   "cell_type": "code",
   "execution_count": 20,
   "id": "2c1552e0",
   "metadata": {},
   "outputs": [
    {
     "data": {
      "text/plain": [
       "[1, 2, 3, 4.4, 5.5, 'london', 'art', 6, 7, 8, 9, 10.1]"
      ]
     },
     "execution_count": 20,
     "metadata": {},
     "output_type": "execute_result"
    }
   ],
   "source": [
    "mixedlist"
   ]
  },
  {
   "cell_type": "code",
   "execution_count": null,
   "id": "05c50d6d",
   "metadata": {},
   "outputs": [],
   "source": []
  }
 ],
 "metadata": {
  "kernelspec": {
   "display_name": "Python 3",
   "language": "python",
   "name": "python3"
  },
  "language_info": {
   "codemirror_mode": {
    "name": "ipython",
    "version": 3
   },
   "file_extension": ".py",
   "mimetype": "text/x-python",
   "name": "python",
   "nbconvert_exporter": "python",
   "pygments_lexer": "ipython3",
   "version": "3.8.8"
  }
 },
 "nbformat": 4,
 "nbformat_minor": 5
}
